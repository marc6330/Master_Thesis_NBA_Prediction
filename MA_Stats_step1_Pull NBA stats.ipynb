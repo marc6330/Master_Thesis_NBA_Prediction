{
 "cells": [
  {
   "cell_type": "markdown",
   "source": [
    ".Import necessary packages"
   ],
   "metadata": {
    "collapsed": false,
    "pycharm": {
     "name": "#%% md\n"
    }
   }
  },
  {
   "cell_type": "code",
   "execution_count": 6,
   "outputs": [],
   "source": [
    "from urllib.request import urlopen\n",
    "from bs4 import BeautifulSoup\n",
    "import pandas as pd\n",
    "import re\n",
    "import numpy as np"
   ],
   "metadata": {
    "collapsed": false,
    "pycharm": {
     "name": "#%%\n"
    }
   }
  },
  {
   "cell_type": "code",
   "execution_count": 7,
   "outputs": [],
   "source": [
    "# Scraping Data according to year month for the nba\n",
    "def scrape_nba_stats(year, month):\n",
    "    # this is the HTML from the given URL\n",
    "    url = 'https://www.basketball-reference.com/leagues/NBA_'+ str(year) + '_games-'+ str(month) + '.html'\n",
    "\n",
    "\n",
    "    # this is the HTML from the given URL\n",
    "    html = urlopen(url)\n",
    "    soup = BeautifulSoup(html)\n",
    "\n",
    "\n",
    "    # use findALL() to get the column headers\n",
    "    soup.findAll('tr', limit=2)\n",
    "    # use getText()to extract the text we need into a list\n",
    "    headers = [th.getText() for th in soup.findAll('tr', limit=2)[0].findAll('th')]\n",
    "    # exclude the first column as we will not need the ranking order from Basketball Reference for the analysis\n",
    "    header_Date = headers[0]\n",
    "    headers_notDate = headers[1:]\n",
    "\n",
    "\n",
    "    # avoid the first header row\n",
    "    rows = soup.findAll('tr')[1:]\n",
    "    schedule = [[td.getText() for td in rows[i].findAll('td')]\n",
    "                for i in range(len(rows))]\n",
    "    schedule_date = [[th.getText() for th in rows[i].findAll('th')]\n",
    "                for i in range(len(rows))]\n",
    "\n",
    "\n",
    "    stats_nD = pd.DataFrame(schedule, columns = headers_notDate)\n",
    "    len(stats_nD)\n",
    "\n",
    "    stats_D = pd.DataFrame(schedule_date, columns = ['Date'])\n",
    "    stats = stats_D.join(stats_nD)\n",
    "\n",
    "    return stats"
   ],
   "metadata": {
    "collapsed": false,
    "pycharm": {
     "name": "#%%\n"
    }
   }
  },
  {
   "cell_type": "code",
   "execution_count": 8,
   "outputs": [],
   "source": [
    "# Cleaning the scraped data\n",
    "def clean_dataset(nba_data):\n",
    "    # Clean Dataset\n",
    "    nba_data.head(5)\n",
    "\n",
    "    # Convert to Datetime\n",
    "    nba_data['Date'] = pd.to_datetime(pd.to_datetime(nba_data['Date']))\n",
    "\n",
    "    # Convert to military time\n",
    "    nba_data['Start (ET)'] = [re.sub(r'p', '', str(x)) for x in nba_data['Start (ET)']]\n",
    "\n",
    "    helper = nba_data['Start (ET)'].str.split(':', expand = True)\n",
    "\n",
    "    hour = helper[0]\n",
    "    minute = helper[1]\n",
    "\n",
    "    # Concat back to format: 7:00 PM - to concat with Date of Game\n",
    "    time_UTC = pd.DataFrame(hour + ':' + minute + ' PM', columns = ['Time']).fillna(value = '6:11 AM')\n",
    "    time_UTC\n",
    "\n",
    "    # Convert to time\n",
    "    time_UTC['Start_time_24_ET'] = pd.to_datetime(time_UTC['Time']).dt.time\n",
    "\n",
    "    # Join back to main DF\n",
    "    nba_data = nba_data.join(time_UTC['Start_time_24_ET'])\n",
    "\n",
    "    # Create Column with Date and Time (still Easter time: ET)\n",
    "    nba_data['Date_Time_ET'] = pd.to_datetime(nba_data['Date'].astype(str)+' '+nba_data['Start_time_24_ET'].astype(str))\n",
    "\n",
    "    # Add five hours in order to convert it to UTC time (tweepy also works with UTC)\n",
    "    nba_data['Date_Time_UTC'] = nba_data['Date_Time_ET'] + pd.DateOffset(hours=5)\n",
    "\n",
    "    # Drop unnecessary rows\n",
    "    nba_data.drop(columns=['Start (ET)', 'Date_Time_ET', 'Start_time_24_ET', 'Date', 'Box_Score'], inplace = True)\n",
    "\n",
    "    # replace OT with 0 and 1\n",
    "    nba_data['OT'].loc[nba_data['OT'] == 'OT'] = 1\n",
    "    nba_data['OT'].loc[nba_data['OT'] != 1] = 0\n",
    "    #nba_data['OT'] = nba_data['OT'].replace(np.nan, 0)\n",
    "\n",
    "\n",
    "\n",
    "    return nba_data\n"
   ],
   "metadata": {
    "collapsed": false,
    "pycharm": {
     "name": "#%%\n"
    }
   }
  },
  {
   "cell_type": "code",
   "execution_count": 9,
   "outputs": [
    {
     "name": "stderr",
     "output_type": "stream",
     "text": [
      "c:\\users\\marc\\documents\\github\\02_python\\07_ma thesis\\lib\\site-packages\\pandas\\core\\indexing.py:1637: SettingWithCopyWarning: \n",
      "A value is trying to be set on a copy of a slice from a DataFrame\n",
      "\n",
      "See the caveats in the documentation: https://pandas.pydata.org/pandas-docs/stable/user_guide/indexing.html#returning-a-view-versus-a-copy\n",
      "  self._setitem_single_block(indexer, value, name)\n"
     ]
    }
   ],
   "source": [
    "# Calling scraper function\n",
    "data = scrape_nba_stats(2021, 'april')\n",
    "data_m = scrape_nba_stats(2021, 'may')\n",
    "nba_data = data.append(data_m, ignore_index= True)\n",
    "nba_data.columns =  ['Date', 'Start (ET)', 'Visitor', 'PTS_V', 'Home','PTS_H', 'Box_Score', 'OT', 'Attend.', 'Notes']\n",
    "\n",
    "# Calling cleaning function and save it as nba_data\n",
    "nba_data_games = clean_dataset(nba_data)\n",
    "\n",
    "# Safe nba_data as csv\n",
    "nba_data_games.to_csv('C:/Users/Marc/Dropbox/06_ESCP/01_Uni/06_MA Thesis/04_Code/02_Output/01_NBA Scheudle & Stats/nba_data.csv')"
   ],
   "metadata": {
    "collapsed": false,
    "pycharm": {
     "name": "#%%\n"
    }
   }
  },
  {
   "cell_type": "code",
   "execution_count": 10,
   "outputs": [
    {
     "data": {
      "text/plain": "                   Visitor PTS_V                  Home PTS_H OT Attend. Notes  \\\n0       Philadelphia 76ers   114   Cleveland Cavaliers    94  0   4,100         \n1       Washington Wizards    91       Detroit Pistons   120  0     750         \n2        Charlotte Hornets    89         Brooklyn Nets   111  0   1,773         \n3    Golden State Warriors   109            Miami Heat   116  0       0         \n4            Orlando Magic   115  New Orleans Pelicans   110  1   3,700         \n..                     ...   ...                   ...   ... ..     ...   ...   \n408           Phoenix Suns   100    Los Angeles Lakers    92  0   8,025         \n409          Brooklyn Nets   141        Boston Celtics   126  0  17,226         \n410   Los Angeles Clippers   106      Dallas Mavericks    81  0  17,761         \n411     Philadelphia 76ers   114    Washington Wizards   122  0  10,665         \n412              Utah Jazz   120     Memphis Grizzlies   113  0  12,185         \n\n          Date_Time_UTC  \n0   2021-04-02 00:00:00  \n1   2021-04-02 00:00:00  \n2   2021-04-02 00:30:00  \n3   2021-04-02 01:00:00  \n4   2021-04-02 01:00:00  \n..                  ...  \n408 2021-05-30 20:30:00  \n409 2021-05-31 00:00:00  \n410 2021-05-31 02:30:00  \n411 2021-06-01 00:00:00  \n412 2021-06-01 02:30:00  \n\n[413 rows x 8 columns]",
      "text/html": "<div>\n<style scoped>\n    .dataframe tbody tr th:only-of-type {\n        vertical-align: middle;\n    }\n\n    .dataframe tbody tr th {\n        vertical-align: top;\n    }\n\n    .dataframe thead th {\n        text-align: right;\n    }\n</style>\n<table border=\"1\" class=\"dataframe\">\n  <thead>\n    <tr style=\"text-align: right;\">\n      <th></th>\n      <th>Visitor</th>\n      <th>PTS_V</th>\n      <th>Home</th>\n      <th>PTS_H</th>\n      <th>OT</th>\n      <th>Attend.</th>\n      <th>Notes</th>\n      <th>Date_Time_UTC</th>\n    </tr>\n  </thead>\n  <tbody>\n    <tr>\n      <th>0</th>\n      <td>Philadelphia 76ers</td>\n      <td>114</td>\n      <td>Cleveland Cavaliers</td>\n      <td>94</td>\n      <td>0</td>\n      <td>4,100</td>\n      <td></td>\n      <td>2021-04-02 00:00:00</td>\n    </tr>\n    <tr>\n      <th>1</th>\n      <td>Washington Wizards</td>\n      <td>91</td>\n      <td>Detroit Pistons</td>\n      <td>120</td>\n      <td>0</td>\n      <td>750</td>\n      <td></td>\n      <td>2021-04-02 00:00:00</td>\n    </tr>\n    <tr>\n      <th>2</th>\n      <td>Charlotte Hornets</td>\n      <td>89</td>\n      <td>Brooklyn Nets</td>\n      <td>111</td>\n      <td>0</td>\n      <td>1,773</td>\n      <td></td>\n      <td>2021-04-02 00:30:00</td>\n    </tr>\n    <tr>\n      <th>3</th>\n      <td>Golden State Warriors</td>\n      <td>109</td>\n      <td>Miami Heat</td>\n      <td>116</td>\n      <td>0</td>\n      <td>0</td>\n      <td></td>\n      <td>2021-04-02 01:00:00</td>\n    </tr>\n    <tr>\n      <th>4</th>\n      <td>Orlando Magic</td>\n      <td>115</td>\n      <td>New Orleans Pelicans</td>\n      <td>110</td>\n      <td>1</td>\n      <td>3,700</td>\n      <td></td>\n      <td>2021-04-02 01:00:00</td>\n    </tr>\n    <tr>\n      <th>...</th>\n      <td>...</td>\n      <td>...</td>\n      <td>...</td>\n      <td>...</td>\n      <td>...</td>\n      <td>...</td>\n      <td>...</td>\n      <td>...</td>\n    </tr>\n    <tr>\n      <th>408</th>\n      <td>Phoenix Suns</td>\n      <td>100</td>\n      <td>Los Angeles Lakers</td>\n      <td>92</td>\n      <td>0</td>\n      <td>8,025</td>\n      <td></td>\n      <td>2021-05-30 20:30:00</td>\n    </tr>\n    <tr>\n      <th>409</th>\n      <td>Brooklyn Nets</td>\n      <td>141</td>\n      <td>Boston Celtics</td>\n      <td>126</td>\n      <td>0</td>\n      <td>17,226</td>\n      <td></td>\n      <td>2021-05-31 00:00:00</td>\n    </tr>\n    <tr>\n      <th>410</th>\n      <td>Los Angeles Clippers</td>\n      <td>106</td>\n      <td>Dallas Mavericks</td>\n      <td>81</td>\n      <td>0</td>\n      <td>17,761</td>\n      <td></td>\n      <td>2021-05-31 02:30:00</td>\n    </tr>\n    <tr>\n      <th>411</th>\n      <td>Philadelphia 76ers</td>\n      <td>114</td>\n      <td>Washington Wizards</td>\n      <td>122</td>\n      <td>0</td>\n      <td>10,665</td>\n      <td></td>\n      <td>2021-06-01 00:00:00</td>\n    </tr>\n    <tr>\n      <th>412</th>\n      <td>Utah Jazz</td>\n      <td>120</td>\n      <td>Memphis Grizzlies</td>\n      <td>113</td>\n      <td>0</td>\n      <td>12,185</td>\n      <td></td>\n      <td>2021-06-01 02:30:00</td>\n    </tr>\n  </tbody>\n</table>\n<p>413 rows × 8 columns</p>\n</div>"
     },
     "execution_count": 10,
     "metadata": {},
     "output_type": "execute_result"
    }
   ],
   "source": [
    "nba_data_games"
   ],
   "metadata": {
    "collapsed": false,
    "pycharm": {
     "name": "#%%\n"
    }
   }
  },
  {
   "cell_type": "markdown",
   "source": [
    "# Problems Overcome:\n",
    "1. Turn hours into military time, and adjust to UTC\n",
    "    - Was especially difficult to add 5 hours to get from eastern time to UTC. Done by concatinating with Date, and then I was able to use dataoffset form pandas\n",
    "1. Generally changing something for the complete column (take away p)\n",
    "1. parse time correctly\n",
    "- Replace empty times NaN\n",
    "\n"
   ],
   "metadata": {
    "collapsed": false,
    "pycharm": {
     "name": "#%% md\n"
    }
   }
  }
 ],
 "metadata": {
  "kernelspec": {
   "display_name": "Python 3",
   "language": "python",
   "name": "python3"
  },
  "language_info": {
   "codemirror_mode": {
    "name": "ipython",
    "version": 2
   },
   "file_extension": ".py",
   "mimetype": "text/x-python",
   "name": "python",
   "nbconvert_exporter": "python",
   "pygments_lexer": "ipython2",
   "version": "2.7.6"
  }
 },
 "nbformat": 4,
 "nbformat_minor": 0
}