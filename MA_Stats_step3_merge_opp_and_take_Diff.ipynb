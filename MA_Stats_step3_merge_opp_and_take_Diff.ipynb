{
 "cells": [
  {
   "cell_type": "code",
   "execution_count": 356,
   "metadata": {
    "collapsed": true,
    "pycharm": {
     "name": "#%%\n"
    }
   },
   "outputs": [],
   "source": [
    "import pandas as pd"
   ]
  },
  {
   "cell_type": "code",
   "execution_count": 357,
   "outputs": [],
   "source": [
    "# Function with for loop to download all stats of the team internal - Dict as I called teams differently to the website\n",
    "teams_internal_map = {'LAL':'LAL','CHI':'CHB','GSW':'GSW','MIA':'MIH','BOS':'BOC', 'BRK':'BRK', 'PHI':'PHI', 'MIL':'MIL', 'NYK':'NYK', 'ATL':'ATL', 'CHO':'CHO', 'IND':'IND', 'WAS':'WAS' , 'TOR':'TOR', 'CLE':'CLE', 'ORL':'ORL', 'DET':'DET', 'UTA':'UTA', 'PHO':'PHO', 'LAC':'LAC', 'DEN':'DEN', 'DAL':'DAL', 'POR':'POR', 'MEM':'MEM', 'SAS':'SAS', 'NOP':'NOP', 'SAC':'SAC', 'OKC':'OKC', 'MIN':'MIN', 'HOU':'HOU'}\n"
   ],
   "metadata": {
    "collapsed": false,
    "pycharm": {
     "name": "#%%\n"
    }
   }
  },
  {
   "cell_type": "code",
   "execution_count": 358,
   "outputs": [],
   "source": [
    "# only for relevant teams\n",
    "teams_internal = {'LAL':'LAL','CHI':'CHB','GSW':'GSW','MIA':'MIH','BOS':'BOC'}\n"
   ],
   "metadata": {
    "collapsed": false,
    "pycharm": {
     "name": "#%%\n"
    }
   }
  },
  {
   "cell_type": "code",
   "execution_count": 359,
   "outputs": [],
   "source": [
    "# add stats of opponents and take difference between home and away team\n",
    "\n",
    "for teams in teams_internal:\n",
    "\n",
    "    # Add first line of the stats\n",
    "    i = 0\n",
    "\n",
    "    df = pd.read_excel('C:/Users/Marc/Dropbox/06_ESCP/01_Uni/06_MA Thesis/04_Code/02_Output/01_NBA Scheudle & Stats/'+ teams_internal[teams] + '/02_stats_average/'+ teams_internal[teams] + '_2021_stats_num_avg.xlsx')\n",
    "\n",
    "    # No loop to create the df\n",
    "    # open opponents dataset\n",
    "    df_opp = pd.read_excel('C:/Users/Marc/Dropbox/06_ESCP/01_Uni/06_MA Thesis/04_Code/02_Output/01_NBA Scheudle & Stats/'+ teams_internal_map[df.iloc[i].Opp] + '/02_stats_average/'+ teams_internal_map[df.iloc[i].Opp] + '_2021_stats_num_avg.xlsx')\n",
    "\n",
    "    # subset to numerical values in df\n",
    "    df_opp_interesting = df_opp.iloc[:, 6:]\n",
    "\n",
    "    # Add prefix to columns indicating that its from the opponent\n",
    "    df_opp_interesting = df_opp_interesting.add_prefix('Opp_')\n",
    "\n",
    "    # identify column to to add\n",
    "    # check date of game\n",
    "    condition = df.Date.iloc[i]\n",
    "\n",
    "    # search index of matching date in df_opp as its not in df_opp_interesting; rows however the same\n",
    "    x = df_opp[df_opp['Date'].str.match(condition)].index\n",
    "\n",
    "    # take index and look for it in df_opp_interesting\n",
    "    new = df_opp_interesting.iloc[x]\n",
    "\n",
    "    ### repetition as now new lines will be added\n",
    "\n",
    "    for i in range(1, len(df)):\n",
    "\n",
    "        df = pd.read_excel('C:/Users/Marc/Dropbox/06_ESCP/01_Uni/06_MA Thesis/04_Code/02_Output/01_NBA Scheudle & Stats/'+ teams_internal[teams] + '/02_stats_average/'+ teams_internal[teams] + '_2021_stats_num_avg.xlsx')\n",
    "\n",
    "        # No loop to create the df\n",
    "        # open opponents dataset\n",
    "        df_opp = pd.read_excel('C:/Users/Marc/Dropbox/06_ESCP/01_Uni/06_MA Thesis/04_Code/02_Output/01_NBA Scheudle & Stats/'+ teams_internal_map[df.iloc[i].Opp] + '/02_stats_average/'+ teams_internal_map[df.iloc[i].Opp] + '_2021_stats_num_avg.xlsx')\n",
    "\n",
    "        # subset to numerical values in df\n",
    "        df_opp_interesting = df_opp.iloc[:, 6:]\n",
    "\n",
    "        # Add prefix to columns indicating that its from the opponent\n",
    "        df_opp_interesting = df_opp_interesting.add_prefix('Opp_')\n",
    "\n",
    "        # identify column to to add\n",
    "        # check date of game\n",
    "        condition = df.Date.iloc[i]\n",
    "\n",
    "        # search index of matching date in df_opp as its not in df_opp_interesting; rows however the same\n",
    "        x = df_opp[df_opp['Date'].str.match(condition)].index\n",
    "\n",
    "        # take index and look for it in df_opp_interesting\n",
    "        to_add_new = df_opp_interesting.iloc[x]\n",
    "\n",
    "        # merge with home team dataset\n",
    "        new = new.append(to_add_new)\n",
    "\n",
    "    # reset index as sometime it is messed up (3rd and 4th LAL game is 3rd game for POR and MIL)\n",
    "    new = new.reset_index()\n",
    "\n",
    "    # Merge df with the opponents results (to_add)\n",
    "    df_final = pd.concat([df, new], axis = 1)\n",
    "\n",
    "    # Calc differences betweent home and opponent team\n",
    "    #  In order to keep dimensionality at a minimum, the difference of all statistical values of H/A team are taken\n",
    "    Diff_list = ['P_Team', 'P_Received', 'FG', 'FGA', '3P', '3PA', 'FT',\n",
    "           'FTA', 'ORB', 'TRB', 'AST', 'STL', 'BLK', 'TOV', 'PF', 'FG%', '3P%',\n",
    "           'FT%', 'P_Team_5GA', 'P_Rec_5GA', 'FG_5GA', 'FGA_5GA', '3P_5GA',\n",
    "           '3PA_5GA', 'FT_5GA', 'FTA_5GA', 'ORB_5GA', 'TRB_5GA', 'AST_5GA',\n",
    "           'STL_5GA', 'BLK_5GA', 'TOV_5GA', 'PF_5GA', 'FG%_5GA', '3P%_5GA',\n",
    "           'FT%_5GA', 'win_per', 'win_per_5G', 'days_rest']\n",
    "\n",
    "    for i in Diff_list:\n",
    "        df_final['Diff_'+ i] = df[i] - df_final['Opp_' +i]\n",
    "        df_final = df_final.drop(columns = [i,'Opp_' +i ])\n",
    "\n",
    "    # Dropping index from concatination\n",
    "    df_final = df_final.drop(columns = ['index'])\n",
    "\n",
    "    # saving files to the repective paths\n",
    "    save = df_final\n",
    "\n",
    "    save.to_excel('C:/Users/Marc/Dropbox/06_ESCP/01_Uni/06_MA Thesis/04_Code/02_Output/01_NBA Scheudle & Stats/'+ str(teams_internal[teams]) + '/03_stats_merged with opponent/'+ str(teams_internal[teams]) + '_hist_data_overview.xlsx', index = False)\n"
   ],
   "metadata": {
    "collapsed": false,
    "pycharm": {
     "name": "#%%\n"
    }
   }
  },
  {
   "cell_type": "markdown",
   "source": [
    "Main Problem:\n",
    "- Matching the correct game from the opponent to the dataset, as it 5th game is not always the same\n",
    "- Done by:\n",
    "    - Lookup date of game\n",
    "    - Search this date in opponent dataframe\n",
    "    - return index of this row\n",
    "    - Append row of that index\n",
    "\n"
   ],
   "metadata": {
    "collapsed": false,
    "pycharm": {
     "name": "#%% md\n"
    }
   }
  }
 ],
 "metadata": {
  "kernelspec": {
   "display_name": "Python 3",
   "language": "python",
   "name": "python3"
  },
  "language_info": {
   "codemirror_mode": {
    "name": "ipython",
    "version": 2
   },
   "file_extension": ".py",
   "mimetype": "text/x-python",
   "name": "python",
   "nbconvert_exporter": "python",
   "pygments_lexer": "ipython2",
   "version": "2.7.6"
  }
 },
 "nbformat": 4,
 "nbformat_minor": 0
}