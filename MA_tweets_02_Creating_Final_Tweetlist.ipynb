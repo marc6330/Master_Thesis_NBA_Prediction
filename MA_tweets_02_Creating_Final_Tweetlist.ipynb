{
 "cells": [
  {
   "cell_type": "code",
   "execution_count": 1,
   "metadata": {
    "collapsed": true
   },
   "outputs": [],
   "source": [
    "import pandas as pd"
   ]
  },
  {
   "cell_type": "code",
   "execution_count": 2,
   "outputs": [],
   "source": [
    "keys = ['MIH','BOC','CHB','LAL','GSW']"
   ],
   "metadata": {
    "collapsed": false,
    "pycharm": {
     "name": "#%%\n"
    }
   }
  },
  {
   "cell_type": "code",
   "execution_count": 3,
   "outputs": [
    {
     "name": "stdout",
     "output_type": "stream",
     "text": [
      "MIH new and old together has the length: 188879\n",
      "MIH new and old together w/ duplicates: 188879\n",
      "MIH new and old together after duplicates: 187674\n",
      "BOC new and old together has the length: 232325\n",
      "BOC new and old together w/ duplicates: 232325\n",
      "BOC new and old together after duplicates: 230431\n",
      "CHB new and old together has the length: 226353\n",
      "CHB new and old together w/ duplicates: 226353\n",
      "CHB new and old together after duplicates: 224086\n",
      "LAL new and old together has the length: 265044\n",
      "LAL new and old together w/ duplicates: 265044\n",
      "LAL new and old together after duplicates: 264315\n",
      "GSW new and old together has the length: 190774\n",
      "GSW new and old together w/ duplicates: 190774\n",
      "GSW new and old together after duplicates: 189391\n"
     ]
    }
   ],
   "source": [
    "for i in keys:\n",
    "\n",
    "    # Read the two different dfs\n",
    "    df_old = pd.read_excel('C:/Users/Marc/Dropbox/06_ESCP/01_Uni/06_MA Thesis/04_Code/02_Output/02_Tweets/'+ str(i) + '/02_Tweets/'+ str(i) +'_Tweets_01.xlsx')\n",
    "    df_new = pd.read_excel('C:/Users/Marc/Dropbox/06_ESCP/01_Uni/06_MA Thesis/04_Code/02_Output/02_Tweets/'+ str(i) + '/'+ str(i) +'_Tweets.xlsx')\n",
    "\n",
    "    # Drop dupliactes a first time to decrease computational cost\n",
    "    df_old = df_old.drop_duplicates(subset = ['id'])\n",
    "    df_new = df_new.drop_duplicates(subset = ['id'])\n",
    "\n",
    "    # verify concat is working properly\n",
    "    print(str(i) + ' new and old together has the length: ' + str(len(df_old) + len(df_new)))\n",
    "\n",
    "    # Concat\n",
    "    df_final = pd.concat([df_old, df_new])\n",
    "\n",
    "    # Verfiy concat is working properly\n",
    "    print(str(i) + ' new and old together w/ duplicates: ' + str(len(df_final)))\n",
    "\n",
    "    # Reducing last duplicates\n",
    "    df_final = df_final.drop_duplicates(subset = ['id'])\n",
    "\n",
    "    # Verfiy concat is working properly\n",
    "    print(str(i) + ' new and old together after duplicates: ' + str(len(df_final)))\n",
    "\n",
    "    # write excel\n",
    "    df_final.to_excel('C:/Users/Marc/Dropbox/06_ESCP/01_Uni/06_MA Thesis/04_Code/02_Output/02_Tweets/'+ str(i) + '/02_Tweets/01_Final/' + str(i) + '_final_tweets.xlsx', index = False)"
   ],
   "metadata": {
    "collapsed": false,
    "pycharm": {
     "name": "#%%\n"
    }
   }
  }
 ],
 "metadata": {
  "kernelspec": {
   "display_name": "Python 3",
   "language": "python",
   "name": "python3"
  },
  "language_info": {
   "codemirror_mode": {
    "name": "ipython",
    "version": 2
   },
   "file_extension": ".py",
   "mimetype": "text/x-python",
   "name": "python",
   "nbconvert_exporter": "python",
   "pygments_lexer": "ipython2",
   "version": "2.7.6"
  }
 },
 "nbformat": 4,
 "nbformat_minor": 0
}