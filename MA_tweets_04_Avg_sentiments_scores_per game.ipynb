{
 "cells": [
  {
   "cell_type": "code",
   "execution_count": null,
   "outputs": [],
   "source": [
    "import pandas as pd\n",
    "import numpy as np\n",
    "import datetime"
   ],
   "metadata": {
    "collapsed": false,
    "pycharm": {
     "name": "#%%\n",
     "is_executing": true
    }
   }
  },
  {
   "cell_type": "code",
   "execution_count": null,
   "outputs": [],
   "source": [
    "def get_mean_sentiment_24h(game_date, df_loaded):\n",
    "\n",
    "    # only used necessary columns\n",
    "    df = df_loaded.iloc[:,3:]\n",
    "\n",
    "    # Set crated_at to datetime_object\n",
    "    df.created_at = pd.to_datetime(df.created_at)\n",
    "\n",
    "    #select date of the game\n",
    "    date = game_date\n",
    "\n",
    "    # Always tweets taken from the last 24h\n",
    "    helper1 = df_loaded[pd.to_datetime(df_loaded.created_at) <= pd.to_datetime(date)]\n",
    "    helper2 = helper1[pd.to_datetime(helper1.created_at) >= pd.to_datetime(date) - datetime.timedelta(2)]\n",
    "\n",
    "    # calc mean of all columns and put it back into a df (transposed)\n",
    "    helper3 = pd.DataFrame(helper2.mean(), columns = [date]).T\n",
    "\n",
    "    return(helper3)\n",
    "\n",
    "def get_mean_sentiment_12h(game_date, df_loaded):\n",
    "\n",
    "    # only used necessary columns\n",
    "    df = df_loaded.iloc[:,3:]\n",
    "\n",
    "    # Set crated_at to datetime_object\n",
    "    df.created_at = pd.to_datetime(df.created_at)\n",
    "\n",
    "    #select date of the game\n",
    "    date = game_date\n",
    "\n",
    "    # Always tweets taken from the last 24h\n",
    "    helper1 = df_loaded[pd.to_datetime(df_loaded.created_at) <= pd.to_datetime(date)]\n",
    "    helper2 = helper1[pd.to_datetime(helper1.created_at) >= pd.to_datetime(date) - datetime.timedelta(1)]\n",
    "\n",
    "\n",
    "    return(helper3)"
   ],
   "metadata": {
    "collapsed": false,
    "pycharm": {
     "name": "#%%\n",
     "is_executing": true
    }
   }
  },
  {
   "cell_type": "code",
   "execution_count": null,
   "outputs": [],
   "source": [
    "#game days with sufficient tweets\n",
    "Lakers_Game_days = [\"2021-04-17 10:30:00\",\"2021-04-19 04:00:00\",\"2021-04-22 03:30:00\",\"2021-04-24 02:30:00\",\"2021-04-26 01:00:00\",\"2021-04-28 01:30:00\",\"2021-04-30 04:30:00\",\"2021-05-02 04:00:00\",\"2021-05-03 04:00:00\",\"2021-05-06 04:00:00\",\"2021-05-07 04:00:00\",\"2021-05-09 04:00:00\",\"2021-05-11 04:00:00\",\"2021-05-12 04:30:00\",\"2021-05-15 19:00:00\",\"2021-05-16 03:00:00\"]\n",
    "\n",
    "GSW_Game_days = [\"2021-04-17 02:30:00\",\"2021-04-19 01:30:00\",\"2021-04-21 01:00:00\",\"2021-04-23 04:00:00\",\"2021-04-25 04:00:00\",\"2021-04-27 03:30:00\",\"2021-04-29 02:00:00\",\"2021-05-01 01:30:00\",\"2021-05-03 01:30:00\",\"2021-05-04 02:00:00\",\"2021-05-06 04:00:00\",\"2021-05-08 04:00:00\",\"2021-05-10 04:00:00\",\"2021-05-11 04:00:00\",\"2021-05-14 03:30:00\",\"2021-05-16 21:30:00\"]\n",
    "\n",
    "BOC_Game_days= [\"2021-04-17 02:30:00\",\"2021-04-19 01:30:00\",\"2021-04-22 01:00:00\",\"2021-04-23 01:30:00\",\"2021-04-25 19:00:00\",\"2021-04-27 01:00:00\",\"2021-04-28 01:30:00\",\"2021-04-30 01:30:00\",\"2021-05-02 01:30:00\",\"2021-05-05 01:00:00\",\"2021-05-07 01:30:00\",\"2021-05-09 19:00:00\",\"2021-05-11 01:30:00\",\"2021-05-12 02:00:00\",\"2021-05-15 20:00:00\",\"2021-05-16 19:00:00\"]\n",
    "\n",
    "MIH_Game_days = [\"2021-04-16 02:00:00\",\"2021-04-18 21:30:00\",\"2021-04-19 02:00:00\",\"2021-04-21 02:30:00\",\"2021-04-23 01:30:00\",\"2021-04-24 02:00:00\",\"2021-04-26 02:00:00\",\"2021-04-28 02:00:00\",\"2021-05-01 02:00:00\",\"2021-05-02 02:00:00\",\"2021-05-04 02:00:00\",\"2021-05-07 02:00:00\",\"2021-05-09 19:00:00\",\"2021-05-11 01:30:00\",\"2021-05-13 01:30:00\",\"2021-05-15 02:00:00\",\"2021-05-16 02:00:00\"]\n",
    "\n",
    "CHB_Game_days = [\"2021-04-17 02:00:00\",\"2021-04-19 01:30:00\",\"2021-04-21 01:00:00\",\"2021-04-22 03:00:00\",\"2021-04-24 02:00:00\",\"2021-04-26 02:00:00\",\"2021-04-28 01:30:00\",\"2021-04-30 03:00:00\",\"2021-05-01 02:00:00\",\"2021-05-03 03:00:00\",\"2021-05-06 01:00:00\",\"2021-05-07 01:30:00\",\"2021-05-09 02:00:00\",\"2021-05-11 02:00:00\",\"2021-05-13 02:00:00\",\"2021-05-15 19:00:00\",\"2021-05-16 03:00:00\"]"
   ],
   "metadata": {
    "collapsed": false,
    "pycharm": {
     "name": "#%%\n",
     "is_executing": true
    }
   }
  },
  {
   "cell_type": "code",
   "execution_count": null,
   "outputs": [],
   "source": [
    "# List of teams and their game dates to iterate over\n",
    "list_of_teams = {'LAL': Lakers_Game_days,'GSW': GSW_Game_days,'BOC': BOC_Game_days,'MIH': MIH_Game_days,'CHB':CHB_Game_days}\n",
    "teams_internal = {'LAL':'LAL','GSW':'GSW','BOS':'BOC','MIA':'MIH', 'CHI':'CHB'}"
   ],
   "metadata": {
    "collapsed": false,
    "pycharm": {
     "name": "#%%\n",
     "is_executing": true
    }
   }
  },
  {
   "cell_type": "code",
   "execution_count": null,
   "outputs": [],
   "source": [
    "# Loop to take the mean for Text_Blob and Vader Scores per team and Gameday\n",
    "for teams in teams_internal:\n",
    "\n",
    "    #Load dataset per team\n",
    "    df_loaded = pd.read_csv('C:/Users/Marc/Dropbox/06_ESCP/01_Uni/06_MA Thesis/04_Code/02_Output/02_Tweets/' + teams_internal[teams] + '/02_Tweets/01_Final/'+ teams_internal[teams] +'_sentiment_analized.csv', index_col = [0])\n",
    "\n",
    "    # Columns for output table\n",
    "    final_sentiment = pd.DataFrame(columns =['TB_polarity', 'TB_subjectivity', 'Va_neg', 'Va_neu', 'Va_pos','Va_compound', '_before_TB_polarity', '_before_TB_subjectivity','_before_Va_neg', '_before_Va_neu', '_before_Va_pos','_before_Va_compound'])\n",
    "\n",
    "    #Loop through rows of dataset per game day for 24 hours in advance\n",
    "    for game_date in list_of_teams[teams_internal[teams]]:\n",
    "\n",
    "        new = get_mean_sentiment_24h(game_date, df_loaded)\n",
    "        final_sentiment = pd.concat([final_sentiment, new])\n",
    "\n",
    "\n",
    "    #Load dataset per team\n",
    "    final_sentiment.to_csv('C:/Users/Marc/Dropbox/06_ESCP/01_Uni/06_MA Thesis/04_Code/02_Output/02_Tweets/' + teams_internal[teams] + '/02_Tweets/01_Final/'+ teams_internal[teams] +'per_Game_sentiment_24H.csv')"
   ],
   "metadata": {
    "collapsed": false,
    "pycharm": {
     "name": "#%%\n",
     "is_executing": true
    }
   }
  },
  {
   "cell_type": "code",
   "execution_count": null,
   "outputs": [],
   "source": [
    "\"\"\"\n",
    "12h option (not applied)\n",
    "\n",
    "\n",
    "# Loop to take the mean for Text_Blob and Vader Scores per team and Gameday (12h)\n",
    "for teams in teams_internal:\n",
    "\n",
    "    #Load dataset per team\n",
    "    df_loaded = pd.read_csv('C:/Users/Marc/Dropbox/06_ESCP/01_Uni/06_MA Thesis/04_Code/02_Output/02_Tweets/' + teams_internal[teams] + '/02_Tweets/01_Final/'+ teams_internal[teams] +'_sentiment_analized.csv', index_col = [0])\n",
    "\n",
    "    #Loop through rows of dataset per game day for 12 hours in advance\n",
    "    for game_date in list_of_teams[teams_internal[teams]]:\n",
    "        new = get_mean_sentiment_12h(game_date, df_loaded)\n",
    "        final_sentiment = pd.concat([final_sentiment, new])\n",
    "\n",
    "    #Load dataset per team\n",
    "    final_sentiment.to_csv('C:/Users/Marc/Dropbox/06_ESCP/01_Uni/06_MA Thesis/04_Code/02_Output/02_Tweets/' + teams_internal[teams] + '/02_Tweets/01_Final/'+ teams_internal[teams] +'per_Game_sentiment_12H.csv')\n",
    "\"\"\""
   ],
   "metadata": {
    "collapsed": false,
    "pycharm": {
     "name": "#%%\n",
     "is_executing": true
    }
   }
  },
  {
   "cell_type": "markdown",
   "source": [
    "to understand:\n",
    "- Taking tweets per game day and calc the sentiment for each day\n",
    "- Before_ means taking the raw tweets without cleaning, based on the power of the library\n",
    "\n",
    "Running instructions\n",
    "- Running script takes some time\n",
    "\n"
   ],
   "metadata": {
    "collapsed": false,
    "pycharm": {
     "name": "#%% md\n"
    }
   }
  }
 ],
 "metadata": {
  "kernelspec": {
   "display_name": "Python 3",
   "language": "python",
   "name": "python3"
  },
  "language_info": {
   "codemirror_mode": {
    "name": "ipython",
    "version": 2
   },
   "file_extension": ".py",
   "mimetype": "text/x-python",
   "name": "python",
   "nbconvert_exporter": "python",
   "pygments_lexer": "ipython2",
   "version": "2.7.6"
  }
 },
 "nbformat": 4,
 "nbformat_minor": 0
}